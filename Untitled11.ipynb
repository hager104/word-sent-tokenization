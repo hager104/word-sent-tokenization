{
  "nbformat": 4,
  "nbformat_minor": 0,
  "metadata": {
    "colab": {
      "provenance": []
    },
    "kernelspec": {
      "name": "python3",
      "display_name": "Python 3"
    },
    "language_info": {
      "name": "python"
    }
  },
  "cells": [
    {
      "cell_type": "markdown",
      "source": [
        "# install spacy lib"
      ],
      "metadata": {
        "id": "el4NSUI5qPw8"
      }
    },
    {
      "cell_type": "code",
      "execution_count": 1,
      "metadata": {
        "colab": {
          "base_uri": "https://localhost:8080/"
        },
        "id": "9bL63vxhh7UZ",
        "outputId": "3b1a4f53-53a9-436a-b509-1680f7c334b6"
      },
      "outputs": [
        {
          "output_type": "stream",
          "name": "stdout",
          "text": [
            "Requirement already satisfied: spacy in /usr/local/lib/python3.10/dist-packages (3.7.5)\n",
            "Requirement already satisfied: spacy-legacy<3.1.0,>=3.0.11 in /usr/local/lib/python3.10/dist-packages (from spacy) (3.0.12)\n",
            "Requirement already satisfied: spacy-loggers<2.0.0,>=1.0.0 in /usr/local/lib/python3.10/dist-packages (from spacy) (1.0.5)\n",
            "Requirement already satisfied: murmurhash<1.1.0,>=0.28.0 in /usr/local/lib/python3.10/dist-packages (from spacy) (1.0.10)\n",
            "Requirement already satisfied: cymem<2.1.0,>=2.0.2 in /usr/local/lib/python3.10/dist-packages (from spacy) (2.0.8)\n",
            "Requirement already satisfied: preshed<3.1.0,>=3.0.2 in /usr/local/lib/python3.10/dist-packages (from spacy) (3.0.9)\n",
            "Requirement already satisfied: thinc<8.3.0,>=8.2.2 in /usr/local/lib/python3.10/dist-packages (from spacy) (8.2.5)\n",
            "Requirement already satisfied: wasabi<1.2.0,>=0.9.1 in /usr/local/lib/python3.10/dist-packages (from spacy) (1.1.3)\n",
            "Requirement already satisfied: srsly<3.0.0,>=2.4.3 in /usr/local/lib/python3.10/dist-packages (from spacy) (2.4.8)\n",
            "Requirement already satisfied: catalogue<2.1.0,>=2.0.6 in /usr/local/lib/python3.10/dist-packages (from spacy) (2.0.10)\n",
            "Requirement already satisfied: weasel<0.5.0,>=0.1.0 in /usr/local/lib/python3.10/dist-packages (from spacy) (0.4.1)\n",
            "Requirement already satisfied: typer<1.0.0,>=0.3.0 in /usr/local/lib/python3.10/dist-packages (from spacy) (0.12.5)\n",
            "Requirement already satisfied: tqdm<5.0.0,>=4.38.0 in /usr/local/lib/python3.10/dist-packages (from spacy) (4.66.5)\n",
            "Requirement already satisfied: requests<3.0.0,>=2.13.0 in /usr/local/lib/python3.10/dist-packages (from spacy) (2.32.3)\n",
            "Requirement already satisfied: pydantic!=1.8,!=1.8.1,<3.0.0,>=1.7.4 in /usr/local/lib/python3.10/dist-packages (from spacy) (2.9.2)\n",
            "Requirement already satisfied: jinja2 in /usr/local/lib/python3.10/dist-packages (from spacy) (3.1.4)\n",
            "Requirement already satisfied: setuptools in /usr/local/lib/python3.10/dist-packages (from spacy) (71.0.4)\n",
            "Requirement already satisfied: packaging>=20.0 in /usr/local/lib/python3.10/dist-packages (from spacy) (24.1)\n",
            "Requirement already satisfied: langcodes<4.0.0,>=3.2.0 in /usr/local/lib/python3.10/dist-packages (from spacy) (3.4.1)\n",
            "Requirement already satisfied: numpy>=1.19.0 in /usr/local/lib/python3.10/dist-packages (from spacy) (1.26.4)\n",
            "Requirement already satisfied: language-data>=1.2 in /usr/local/lib/python3.10/dist-packages (from langcodes<4.0.0,>=3.2.0->spacy) (1.2.0)\n",
            "Requirement already satisfied: annotated-types>=0.6.0 in /usr/local/lib/python3.10/dist-packages (from pydantic!=1.8,!=1.8.1,<3.0.0,>=1.7.4->spacy) (0.7.0)\n",
            "Requirement already satisfied: pydantic-core==2.23.4 in /usr/local/lib/python3.10/dist-packages (from pydantic!=1.8,!=1.8.1,<3.0.0,>=1.7.4->spacy) (2.23.4)\n",
            "Requirement already satisfied: typing-extensions>=4.6.1 in /usr/local/lib/python3.10/dist-packages (from pydantic!=1.8,!=1.8.1,<3.0.0,>=1.7.4->spacy) (4.12.2)\n",
            "Requirement already satisfied: charset-normalizer<4,>=2 in /usr/local/lib/python3.10/dist-packages (from requests<3.0.0,>=2.13.0->spacy) (3.3.2)\n",
            "Requirement already satisfied: idna<4,>=2.5 in /usr/local/lib/python3.10/dist-packages (from requests<3.0.0,>=2.13.0->spacy) (3.10)\n",
            "Requirement already satisfied: urllib3<3,>=1.21.1 in /usr/local/lib/python3.10/dist-packages (from requests<3.0.0,>=2.13.0->spacy) (2.2.3)\n",
            "Requirement already satisfied: certifi>=2017.4.17 in /usr/local/lib/python3.10/dist-packages (from requests<3.0.0,>=2.13.0->spacy) (2024.8.30)\n",
            "Requirement already satisfied: blis<0.8.0,>=0.7.8 in /usr/local/lib/python3.10/dist-packages (from thinc<8.3.0,>=8.2.2->spacy) (0.7.11)\n",
            "Requirement already satisfied: confection<1.0.0,>=0.0.1 in /usr/local/lib/python3.10/dist-packages (from thinc<8.3.0,>=8.2.2->spacy) (0.1.5)\n",
            "Requirement already satisfied: click>=8.0.0 in /usr/local/lib/python3.10/dist-packages (from typer<1.0.0,>=0.3.0->spacy) (8.1.7)\n",
            "Requirement already satisfied: shellingham>=1.3.0 in /usr/local/lib/python3.10/dist-packages (from typer<1.0.0,>=0.3.0->spacy) (1.5.4)\n",
            "Requirement already satisfied: rich>=10.11.0 in /usr/local/lib/python3.10/dist-packages (from typer<1.0.0,>=0.3.0->spacy) (13.9.2)\n",
            "Requirement already satisfied: cloudpathlib<1.0.0,>=0.7.0 in /usr/local/lib/python3.10/dist-packages (from weasel<0.5.0,>=0.1.0->spacy) (0.19.0)\n",
            "Requirement already satisfied: smart-open<8.0.0,>=5.2.1 in /usr/local/lib/python3.10/dist-packages (from weasel<0.5.0,>=0.1.0->spacy) (7.0.5)\n",
            "Requirement already satisfied: MarkupSafe>=2.0 in /usr/local/lib/python3.10/dist-packages (from jinja2->spacy) (2.1.5)\n",
            "Requirement already satisfied: marisa-trie>=0.7.7 in /usr/local/lib/python3.10/dist-packages (from language-data>=1.2->langcodes<4.0.0,>=3.2.0->spacy) (1.2.0)\n",
            "Requirement already satisfied: markdown-it-py>=2.2.0 in /usr/local/lib/python3.10/dist-packages (from rich>=10.11.0->typer<1.0.0,>=0.3.0->spacy) (3.0.0)\n",
            "Requirement already satisfied: pygments<3.0.0,>=2.13.0 in /usr/local/lib/python3.10/dist-packages (from rich>=10.11.0->typer<1.0.0,>=0.3.0->spacy) (2.18.0)\n",
            "Requirement already satisfied: wrapt in /usr/local/lib/python3.10/dist-packages (from smart-open<8.0.0,>=5.2.1->weasel<0.5.0,>=0.1.0->spacy) (1.16.0)\n",
            "Requirement already satisfied: mdurl~=0.1 in /usr/local/lib/python3.10/dist-packages (from markdown-it-py>=2.2.0->rich>=10.11.0->typer<1.0.0,>=0.3.0->spacy) (0.1.2)\n"
          ]
        }
      ],
      "source": [
        "pip install spacy"
      ]
    },
    {
      "cell_type": "markdown",
      "source": [
        "#tokenization by spacy lib"
      ],
      "metadata": {
        "id": "ntJv_VaIqelL"
      }
    },
    {
      "cell_type": "code",
      "source": [
        "import spacy\n",
        "nlp=spacy.load('en_core_web_sm')"
      ],
      "metadata": {
        "id": "Qs6k2nEjns-X"
      },
      "execution_count": 2,
      "outputs": []
    },
    {
      "cell_type": "code",
      "source": [
        "pattern=nlp('Tesla is looking at buying u.s. statrup for  $6 million ')\n",
        "pattern"
      ],
      "metadata": {
        "colab": {
          "base_uri": "https://localhost:8080/"
        },
        "id": "zmGYd1Fsnuh4",
        "outputId": "47cb0f4f-91b2-40b9-861a-e6bfb8e04046"
      },
      "execution_count": 3,
      "outputs": [
        {
          "output_type": "execute_result",
          "data": {
            "text/plain": [
              "Tesla is looking at buying u.s. statrup for  $6 million "
            ]
          },
          "metadata": {},
          "execution_count": 3
        }
      ]
    },
    {
      "cell_type": "code",
      "source": [
        "type(pattern)"
      ],
      "metadata": {
        "colab": {
          "base_uri": "https://localhost:8080/"
        },
        "id": "lPkgr90Lnyk6",
        "outputId": "b60c5f50-8c3f-4e76-8d02-294f6b9710e7"
      },
      "execution_count": 4,
      "outputs": [
        {
          "output_type": "execute_result",
          "data": {
            "text/plain": [
              "spacy.tokens.doc.Doc"
            ]
          },
          "metadata": {},
          "execution_count": 4
        }
      ]
    },
    {
      "cell_type": "code",
      "source": [
        "#word_tokenize\n",
        "for token in pattern:\n",
        "  print(token.text)\n",
        "  print(token.shape_)\n",
        "  print(token.is_alpha)"
      ],
      "metadata": {
        "colab": {
          "base_uri": "https://localhost:8080/"
        },
        "id": "T658538Wn2Xi",
        "outputId": "ebe57de0-6bf0-4094-b645-61b6279d44c1"
      },
      "execution_count": 6,
      "outputs": [
        {
          "output_type": "stream",
          "name": "stdout",
          "text": [
            "Tesla\n",
            "Xxxxx\n",
            "True\n",
            "is\n",
            "xx\n",
            "True\n",
            "looking\n",
            "xxxx\n",
            "True\n",
            "at\n",
            "xx\n",
            "True\n",
            "buying\n",
            "xxxx\n",
            "True\n",
            "u.s\n",
            "x.x\n",
            "False\n",
            ".\n",
            ".\n",
            "False\n",
            "statrup\n",
            "xxxx\n",
            "True\n",
            "for\n",
            "xxx\n",
            "True\n",
            " \n",
            " \n",
            "False\n",
            "$\n",
            "$\n",
            "False\n",
            "6\n",
            "d\n",
            "False\n",
            "million\n",
            "xxxx\n",
            "True\n"
          ]
        }
      ]
    },
    {
      "cell_type": "code",
      "source": [
        "pattern[0],pattern[1],pattern[2],pattern[3],pattern[4],pattern[5],pattern[6],pattern[7],pattern[8]"
      ],
      "metadata": {
        "colab": {
          "base_uri": "https://localhost:8080/"
        },
        "id": "UCLTki3ud_Cv",
        "outputId": "b8e88975-2660-4391-bee9-56879ed5e79f"
      },
      "execution_count": 7,
      "outputs": [
        {
          "output_type": "execute_result",
          "data": {
            "text/plain": [
              "(Tesla, is, looking, at, buying, u.s, ., statrup, for)"
            ]
          },
          "metadata": {},
          "execution_count": 7
        }
      ]
    },
    {
      "cell_type": "code",
      "source": [
        "doc=nlp('''\n",
        "although commonly attributed to jhon lennon from his song \"Beaitful Boy\" ,\n",
        "the pharse \"life is what happens to us while we are making other plans\" was written by cartoonist Allen saunders and\n",
        "published in reader\\'s Digest in 1957, when lennon was 17.\n",
        "''' )\n"
      ],
      "metadata": {
        "id": "lOfbXjjyfPvm"
      },
      "execution_count": 8,
      "outputs": []
    },
    {
      "cell_type": "code",
      "source": [
        "data=doc[19:31]\n",
        "print(data)"
      ],
      "metadata": {
        "colab": {
          "base_uri": "https://localhost:8080/"
        },
        "id": "CCj6NdTIgflY",
        "outputId": "2e283528-2df5-435b-87df-99db826fe098"
      },
      "execution_count": 9,
      "outputs": [
        {
          "output_type": "stream",
          "name": "stdout",
          "text": [
            "life is what happens to us while we are making other plans\n"
          ]
        }
      ]
    },
    {
      "cell_type": "code",
      "source": [
        "myfile=('\"we\\'re moving to L.A.\"')\n",
        "print(myfile)"
      ],
      "metadata": {
        "colab": {
          "base_uri": "https://localhost:8080/"
        },
        "id": "KZPE0Gfegz9f",
        "outputId": "8ab1cad7-449a-424e-e938-cedbc81639dc"
      },
      "execution_count": 10,
      "outputs": [
        {
          "output_type": "stream",
          "name": "stdout",
          "text": [
            "\"we're moving to L.A.\"\n"
          ]
        }
      ]
    },
    {
      "cell_type": "code",
      "source": [
        "doc2=nlp(myfile)\n",
        "for token in doc2:\n",
        "  print(token.text,end=\"|\")"
      ],
      "metadata": {
        "colab": {
          "base_uri": "https://localhost:8080/"
        },
        "id": "X0SjxMh9hyJf",
        "outputId": "2d4ac0a5-2461-4dcc-f550-a80bb68432f4"
      },
      "execution_count": 11,
      "outputs": [
        {
          "output_type": "stream",
          "name": "stdout",
          "text": [
            "\"|we|'re|moving|to|L.A.|\"|"
          ]
        }
      ]
    },
    {
      "cell_type": "code",
      "source": [
        "doc3=nlp(\"we're here to help! send snail_mail , email support@oursite.com or visit us at http://www.oursite.com!\")\n",
        "for token in doc3:\n",
        "  print(token)"
      ],
      "metadata": {
        "colab": {
          "base_uri": "https://localhost:8080/"
        },
        "id": "_wvO4qlEh9pP",
        "outputId": "340314f5-7c22-414a-cf71-e11ee73d8547"
      },
      "execution_count": 12,
      "outputs": [
        {
          "output_type": "stream",
          "name": "stdout",
          "text": [
            "we\n",
            "'re\n",
            "here\n",
            "to\n",
            "help\n",
            "!\n",
            "send\n",
            "snail_mail\n",
            ",\n",
            "email\n",
            "support@oursite.com\n",
            "or\n",
            "visit\n",
            "us\n",
            "at\n",
            "http://www.oursite.com\n",
            "!\n"
          ]
        }
      ]
    },
    {
      "cell_type": "markdown",
      "source": [
        "#tokenization by nltk lib"
      ],
      "metadata": {
        "id": "dOsHrJ1XqqbJ"
      }
    },
    {
      "cell_type": "code",
      "source": [
        "pip install nltk"
      ],
      "metadata": {
        "colab": {
          "base_uri": "https://localhost:8080/"
        },
        "id": "GuGhjWSIwx4Z",
        "outputId": "919d8624-7404-465a-d07e-86c80fc3bd88"
      },
      "execution_count": 13,
      "outputs": [
        {
          "output_type": "stream",
          "name": "stdout",
          "text": [
            "Requirement already satisfied: nltk in /usr/local/lib/python3.10/dist-packages (3.8.1)\n",
            "Requirement already satisfied: click in /usr/local/lib/python3.10/dist-packages (from nltk) (8.1.7)\n",
            "Requirement already satisfied: joblib in /usr/local/lib/python3.10/dist-packages (from nltk) (1.4.2)\n",
            "Requirement already satisfied: regex>=2021.8.3 in /usr/local/lib/python3.10/dist-packages (from nltk) (2024.9.11)\n",
            "Requirement already satisfied: tqdm in /usr/local/lib/python3.10/dist-packages (from nltk) (4.66.5)\n"
          ]
        }
      ]
    },
    {
      "cell_type": "code",
      "source": [
        "import nltk\n",
        "nltk.download('punkt')"
      ],
      "metadata": {
        "colab": {
          "base_uri": "https://localhost:8080/"
        },
        "id": "QWK1iSKyotsc",
        "outputId": "09f6abb5-0741-47b6-98cc-2392cb12501f"
      },
      "execution_count": 14,
      "outputs": [
        {
          "output_type": "stream",
          "name": "stderr",
          "text": [
            "[nltk_data] Downloading package punkt to /root/nltk_data...\n",
            "[nltk_data]   Unzipping tokenizers/punkt.zip.\n"
          ]
        },
        {
          "output_type": "execute_result",
          "data": {
            "text/plain": [
              "True"
            ]
          },
          "metadata": {},
          "execution_count": 14
        }
      ]
    },
    {
      "cell_type": "code",
      "source": [
        "from nltk.tokenize import word_tokenize\n",
        "text=('''\n",
        "Hello mr.smith, how are you doing today? the weather is great,\n",
        "and python is awesome. the sky is pinkish-blue. you shouldn't eat cardboard.\n",
        "''')\n",
        "print(word_tokenize(text))"
      ],
      "metadata": {
        "id": "fJyqUoRku8Jq",
        "colab": {
          "base_uri": "https://localhost:8080/"
        },
        "outputId": "fab71069-a102-4e24-8d0a-260fba708de5"
      },
      "execution_count": 16,
      "outputs": [
        {
          "output_type": "stream",
          "name": "stdout",
          "text": [
            "['Hello', 'mr.smith', ',', 'how', 'are', 'you', 'doing', 'today', '?', 'the', 'weather', 'is', 'great', ',', 'and', 'python', 'is', 'awesome', '.', 'the', 'sky', 'is', 'pinkish-blue', '.', 'you', 'should', \"n't\", 'eat', 'cardboard', '.']\n"
          ]
        }
      ]
    },
    {
      "cell_type": "markdown",
      "source": [
        "#tokenization by spacy lib for arabic text"
      ],
      "metadata": {
        "id": "Xk5_49-Kq0x4"
      }
    },
    {
      "cell_type": "code",
      "source": [
        "import spacy\n",
        "nlp=spacy.load('en_core_web_sm')"
      ],
      "metadata": {
        "id": "BuE_NQLgo2M1"
      },
      "execution_count": 17,
      "outputs": []
    },
    {
      "cell_type": "code",
      "source": [
        "d=nlp('بعد الذكاء الاصطناعي من العلوم التي يتسارع التطور فيها بشكل لافت منذ عام 2005 و لمدة 15 سنة')\n",
        "for token in d:\n",
        "  print(token.text)\n",
        "  print(token.shape_)\n",
        "  print(token.is_alpha)"
      ],
      "metadata": {
        "colab": {
          "base_uri": "https://localhost:8080/"
        },
        "id": "YQS2LrI6pA28",
        "outputId": "96daa9fd-4929-4135-dc01-78e117fbf46f"
      },
      "execution_count": 18,
      "outputs": [
        {
          "output_type": "stream",
          "name": "stdout",
          "text": [
            "بعد\n",
            "xxx\n",
            "True\n",
            "الذكاء\n",
            "xxxx\n",
            "True\n",
            "الاصطناعي\n",
            "xxxx\n",
            "True\n",
            "من\n",
            "xx\n",
            "True\n",
            "العلوم\n",
            "xxxx\n",
            "True\n",
            "التي\n",
            "xxxx\n",
            "True\n",
            "يتسارع\n",
            "xxxx\n",
            "True\n",
            "التطور\n",
            "xxxx\n",
            "True\n",
            "فيها\n",
            "xxxx\n",
            "True\n",
            "بشكل\n",
            "xxxx\n",
            "True\n",
            "لافت\n",
            "xxxx\n",
            "True\n",
            "منذ\n",
            "xxx\n",
            "True\n",
            "عام\n",
            "xxx\n",
            "True\n",
            "2005\n",
            "dddd\n",
            "False\n",
            "و\n",
            "x\n",
            "True\n",
            "لمدة\n",
            "xxxx\n",
            "True\n",
            "15\n",
            "dd\n",
            "False\n",
            "سنة\n",
            "xxx\n",
            "True\n"
          ]
        }
      ]
    },
    {
      "cell_type": "code",
      "source": [
        "d[0],d[1],d[2]"
      ],
      "metadata": {
        "colab": {
          "base_uri": "https://localhost:8080/"
        },
        "id": "jrUOo2iFpEKl",
        "outputId": "3618c905-12de-48c6-f00a-bc27a22f292f"
      },
      "execution_count": 19,
      "outputs": [
        {
          "output_type": "execute_result",
          "data": {
            "text/plain": [
              "(بعد, الذكاء, الاصطناعي)"
            ]
          },
          "metadata": {},
          "execution_count": 19
        }
      ]
    },
    {
      "cell_type": "code",
      "source": [
        "dat=nlp(\"\"\" ابو عبدالله محمد بن موسي الخورزمي عالم رياضيات و ذلك\n",
        "من اوائل علماء الرياضيات المسلمين حيث ساهمت اعماله بدور كبير في تقدم الرياضيات في عصره ز اتصل بالخليفة العباسي المأمون و عمل في بيت الحكمة في\n",
        "بغداد وكسب ثقة الخليفة اذ ولاه المأمون بيت الحكمة كما عهد اليه برسم خارطة للارض عمل فيها اكثر من سبعين جغرافيا ز\n",
        "\n",
        "\"\"\")\n",
        "mywork=dat[18:27]\n",
        "print(mywork)"
      ],
      "metadata": {
        "id": "fuXRH8bG0bfD",
        "colab": {
          "base_uri": "https://localhost:8080/"
        },
        "outputId": "a02c3b8b-2c9c-4470-a8dc-ec8e7a296701"
      },
      "execution_count": 21,
      "outputs": [
        {
          "output_type": "stream",
          "name": "stdout",
          "text": [
            "ساهمت اعماله بدور كبير في تقدم الرياضيات في عصره\n"
          ]
        }
      ]
    },
    {
      "cell_type": "code",
      "source": [
        "for token in dat:\n",
        "  print(token.text,end='|')"
      ],
      "metadata": {
        "colab": {
          "base_uri": "https://localhost:8080/"
        },
        "id": "oj07PZwbpNc0",
        "outputId": "88009dc7-15a1-495e-e2e6-02d9439c1598"
      },
      "execution_count": 22,
      "outputs": [
        {
          "output_type": "stream",
          "name": "stdout",
          "text": [
            " |ابو|عبدالله|محمد|بن|موسي|الخورزمي|عالم|رياضيات|و|ذلك|\n",
            "|من|اوائل|علماء|الرياضيات|المسلمين|حيث|ساهمت|اعماله|بدور|كبير|في|تقدم|الرياضيات|في|عصره|ز|اتصل|بالخليفة|العباسي|المأمون|و|عمل|في|بيت|الحكمة|في|\n",
            "|بغداد|وكسب|ثقة|الخليفة|اذ|ولاه|المأمون|بيت|الحكمة|كما|عهد|اليه|برسم|خارطة|للارض|عمل|فيها|اكثر|من|سبعين|جغرافيا|ز|\n",
            "\n",
            "|"
          ]
        }
      ]
    },
    {
      "cell_type": "markdown",
      "source": [
        "#sentence segmentation (sent_tokenization)"
      ],
      "metadata": {
        "id": "sXK8Sel3rBfU"
      }
    },
    {
      "cell_type": "code",
      "source": [
        "import spacy\n",
        "nlp = spacy.load('en_core_web_sm')"
      ],
      "metadata": {
        "id": "HJspNDxgpZxq"
      },
      "execution_count": 23,
      "outputs": []
    },
    {
      "cell_type": "code",
      "source": [
        "inf=nlp('this is the frist sentence. this is anther sentence. this is the last sentence.')\n",
        "for sent in inf.sents:\n",
        "  print(sent)"
      ],
      "metadata": {
        "colab": {
          "base_uri": "https://localhost:8080/"
        },
        "id": "DKMvBKgspjv9",
        "outputId": "991fb72f-5ff6-40b0-d1c1-e3726867edf3"
      },
      "execution_count": 24,
      "outputs": [
        {
          "output_type": "stream",
          "name": "stdout",
          "text": [
            "this is the frist sentence.\n",
            "this is anther sentence.\n",
            "this is the last sentence.\n"
          ]
        }
      ]
    },
    {
      "cell_type": "code",
      "source": [
        "print(inf[7])"
      ],
      "metadata": {
        "colab": {
          "base_uri": "https://localhost:8080/"
        },
        "id": "Omdga6e5pnsJ",
        "outputId": "c5fb2792-04c6-496c-e30e-9ec804c6225c"
      },
      "execution_count": 25,
      "outputs": [
        {
          "output_type": "stream",
          "name": "stdout",
          "text": [
            "is\n"
          ]
        }
      ]
    },
    {
      "cell_type": "code",
      "source": [
        "inf[7].is_sent_start"
      ],
      "metadata": {
        "colab": {
          "base_uri": "https://localhost:8080/"
        },
        "id": "s_ixI4g5puOL",
        "outputId": "02166d42-cf8b-4c8c-88d0-afd0ac4cc6af"
      },
      "execution_count": 26,
      "outputs": [
        {
          "output_type": "execute_result",
          "data": {
            "text/plain": [
              "False"
            ]
          },
          "metadata": {},
          "execution_count": 26
        }
      ]
    },
    {
      "cell_type": "code",
      "source": [
        "list(inf.sents)[0]"
      ],
      "metadata": {
        "colab": {
          "base_uri": "https://localhost:8080/"
        },
        "id": "rAfHHqCcpxwS",
        "outputId": "332eac58-4fef-4929-81d9-7dba3987b7aa"
      },
      "execution_count": 27,
      "outputs": [
        {
          "output_type": "execute_result",
          "data": {
            "text/plain": [
              "this is the frist sentence."
            ]
          },
          "metadata": {},
          "execution_count": 27
        }
      ]
    },
    {
      "cell_type": "code",
      "source": [
        "info = [sent for sent in inf.sents]\n",
        "info"
      ],
      "metadata": {
        "colab": {
          "base_uri": "https://localhost:8080/"
        },
        "id": "XlsvNpNhp2pk",
        "outputId": "cb218e53-1417-452a-a7a8-72591025d3a3"
      },
      "execution_count": 28,
      "outputs": [
        {
          "output_type": "execute_result",
          "data": {
            "text/plain": [
              "[this is the frist sentence.,\n",
              " this is anther sentence.,\n",
              " this is the last sentence.]"
            ]
          },
          "metadata": {},
          "execution_count": 28
        }
      ]
    },
    {
      "cell_type": "code",
      "source": [
        "print(info[2].start,info[2].end)"
      ],
      "metadata": {
        "colab": {
          "base_uri": "https://localhost:8080/"
        },
        "id": "gDyu22F6p6RM",
        "outputId": "ec948768-3de3-4178-b96a-41f98c18a9ba"
      },
      "execution_count": 29,
      "outputs": [
        {
          "output_type": "stream",
          "name": "stdout",
          "text": [
            "11 17\n"
          ]
        }
      ]
    },
    {
      "cell_type": "code",
      "source": [
        "dot=nlp('this is a sentence. here is a word . there are my sisters')\n",
        "for token in dot :\n",
        "  print(token.is_sent_start,' ' , token.text)"
      ],
      "metadata": {
        "colab": {
          "base_uri": "https://localhost:8080/"
        },
        "id": "amhUz0VBp-AA",
        "outputId": "46ff0128-e098-40d7-a78e-b57b984018a6"
      },
      "execution_count": 31,
      "outputs": [
        {
          "output_type": "stream",
          "name": "stdout",
          "text": [
            "True   this\n",
            "False   is\n",
            "False   a\n",
            "False   sentence\n",
            "False   .\n",
            "True   here\n",
            "False   is\n",
            "False   a\n",
            "False   word\n",
            "False   .\n",
            "True   there\n",
            "False   are\n",
            "False   my\n",
            "False   sisters\n"
          ]
        }
      ]
    },
    {
      "cell_type": "code",
      "source": [],
      "metadata": {
        "id": "zu_SO9uxqByG"
      },
      "execution_count": null,
      "outputs": []
    }
  ]
}